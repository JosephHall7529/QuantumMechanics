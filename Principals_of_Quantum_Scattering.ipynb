{
 "cells": [
  {
   "cell_type": "markdown",
   "metadata": {},
   "source": [
    "In all that follows, the information comes primarily from the book \n",
    "    \n",
    "    Principals of Quantum Scattering Theory \n",
    "    Dzevad Belkic\n",
    "    2004"
   ]
  },
  {
   "cell_type": "markdown",
   "metadata": {},
   "source": [
    "In all recognisable theories there is an emblem equation:\n",
    "\n",
    "- we have for Newton $F  = ma$\n",
    "- we have for Relativity $E = mc^2$"
   ]
  },
  {
   "cell_type": "markdown",
   "metadata": {},
   "source": [
    "Scattering theory is the lipman schwinger equation\n",
    "\n",
    "$$\\Psi_k^+(r) = <r|\\Psi_k^+> \\longrightarrow \\frac{1}{\\sqrt{2\\pi}^3}\\left[e^{ik.r} + f(\\theta, \\phi)\\frac{e^{ikr}}{r}\\right]$$\n",
    "\n",
    "The first term dictates the incident plane wave, and the second term the transition amplitude along with a spherically scattered plane wave."
   ]
  },
  {
   "cell_type": "markdown",
   "metadata": {},
   "source": [
    "## pg 28 \n",
    "In order to describe a system by the non interacting state vectors which are the only objects that possess unambiguous physical interpretations; operators and state vectors introduced into the theory must follow Katos requirements:"
   ]
  },
  {
   "cell_type": "markdown",
   "metadata": {},
   "source": [
    "- hamiltonians are self adjoint"
   ]
  },
  {
   "cell_type": "code",
   "execution_count": 12,
   "metadata": {},
   "outputs": [
    {
     "data": {
      "text/plain": [
       "SelfAdjoint (generic function with 1 method)"
      ]
     },
     "execution_count": 12,
     "metadata": {},
     "output_type": "execute_result"
    }
   ],
   "source": [
    "function SelfAdjoint()\n",
    "    \n",
    "end"
   ]
  },
  {
   "cell_type": "markdown",
   "metadata": {},
   "source": [
    "- Transition amplitudes $T^\\pm_{if}$ are rigorously defined mathematically\n",
    "\n",
    "This can be re expressed as the asymptotic convergence of scattering states, or more aptly the problem of correct boundary conditions "
   ]
  },
  {
   "cell_type": "code",
   "execution_count": 14,
   "metadata": {},
   "outputs": [
    {
     "data": {
      "text/plain": [
       "boundary_conditions (generic function with 1 method)"
      ]
     },
     "execution_count": 14,
     "metadata": {},
     "output_type": "execute_result"
    }
   ],
   "source": [
    "function boundary_conditions()\n",
    "    \n",
    "end"
   ]
  },
  {
   "cell_type": "markdown",
   "metadata": {},
   "source": [
    "- The S matrix is unitary\n",
    "\n",
    "This has some serious mathematical foundations; however the real root to this condition is one of asymptotic completeness, this can most likely be found in the book\n",
    "    \n",
    "    Mathematical Concepts of Quantum Mechanics\n",
    "    Gustafson"
   ]
  },
  {
   "cell_type": "markdown",
   "metadata": {},
   "source": [
    "- moreover we have the requirement of asdymptotic orthogonality \n",
    "\n",
    "This was shown to be true for all theories in quadratically integrable potentials, i.e $L^2$ by Ikebe "
   ]
  },
  {
   "cell_type": "markdown",
   "metadata": {},
   "source": [
    "@doc raw\"\"\"\n",
    "    Hermitean\n",
    "   \n",
    "# Input\n",
    "O:: - operator \n",
    "\n",
    "# Output\n",
    "Boolean - Is the inputted operator hermitean.\n",
    "\"\"\""
   ]
  },
  {
   "cell_type": "code",
   "execution_count": 33,
   "metadata": {},
   "outputs": [
    {
     "data": {
      "text/plain": [
       "Hermitean (generic function with 1 method)"
      ]
     },
     "execution_count": 33,
     "metadata": {},
     "output_type": "execute_result"
    }
   ],
   "source": [
    "function Hermitean(O)\n",
    "    \n",
    "end"
   ]
  },
  {
   "cell_type": "markdown",
   "metadata": {},
   "source": [
    "@doc raw\"\"\"\n",
    "    Unitarity\n",
    "   \n",
    "# Input\n",
    "\n",
    "## Optional\n",
    "O:: - operator \n",
    "\n",
    "# Output\n",
    "Boolean - Is the inputted operator Unitary.\n",
    "\"\"\""
   ]
  },
  {
   "cell_type": "code",
   "execution_count": 32,
   "metadata": {},
   "outputs": [
    {
     "data": {
      "text/plain": [
       "Unitarity (generic function with 1 method)"
      ]
     },
     "execution_count": 32,
     "metadata": {},
     "output_type": "execute_result"
    }
   ],
   "source": [
    "function Unitarity(;O=H)\n",
    "    if Hermitean(O)\n",
    "        true\n",
    "    end\n",
    "end"
   ]
  },
  {
   "cell_type": "code",
   "execution_count": 28,
   "metadata": {},
   "outputs": [
    {
     "data": {
      "text/plain": [
       "Information (generic function with 1 method)"
      ]
     },
     "execution_count": 28,
     "metadata": {},
     "output_type": "execute_result"
    }
   ],
   "source": [
    "function Information(;picture::String=\"schroedinger\")\n",
    "    if picture == \"schroedinger\"\n",
    "        print(\"Schroedinger Picture \\n\\n\")\n",
    "        print(\"When dealing with concrete computations, this picture is the most useful!\", \"\\n\\n\", \n",
    "            \"In this picture the state vectors depend on time, while the operators are time independent.\", \"\\n\\n\",\n",
    "            \"This is used when we would like to know the probability that a state undergoes a transition from an \n",
    "        initial state to a final state, we find this by solving the time dependent Schroedinger equation.\")\n",
    "    elseif picture == \"heisenberg\"\n",
    "        print(\"Heisenber picture \\n\\n\")\n",
    "        print(\"When dealing with classical analogies, or moving into relativsitic solutions this picture is the \n",
    "            most useful!\", \"\\n\",\n",
    "            \"In this picture the observables are time dependent whereas the state vectors are time indendent.\", \"\\n\\n\",\n",
    "            )\n",
    "    end\n",
    "end "
   ]
  },
  {
   "cell_type": "code",
   "execution_count": 29,
   "metadata": {},
   "outputs": [
    {
     "name": "stdout",
     "output_type": "stream",
     "text": [
      "Schroedinger Picture \n",
      "\n",
      "When dealing with concrete computations, this picture is the most useful!\n",
      "\n",
      "In this picture the state vectors depend on time, while the operators are time independent.\n",
      "\n",
      "This is used when we would like to know the probability that a state undergoes a transition from an \n",
      "        initial state to a final state, we find this by solving the time dependent Schroedinger equation."
     ]
    }
   ],
   "source": [
    "Information()"
   ]
  },
  {
   "cell_type": "code",
   "execution_count": null,
   "metadata": {},
   "outputs": [],
   "source": []
  },
  {
   "cell_type": "code",
   "execution_count": null,
   "metadata": {},
   "outputs": [],
   "source": []
  },
  {
   "cell_type": "code",
   "execution_count": null,
   "metadata": {},
   "outputs": [],
   "source": []
  },
  {
   "cell_type": "code",
   "execution_count": null,
   "metadata": {},
   "outputs": [],
   "source": []
  },
  {
   "cell_type": "code",
   "execution_count": null,
   "metadata": {},
   "outputs": [],
   "source": []
  },
  {
   "cell_type": "code",
   "execution_count": null,
   "metadata": {},
   "outputs": [],
   "source": []
  },
  {
   "cell_type": "code",
   "execution_count": 55,
   "metadata": {},
   "outputs": [],
   "source": [
    "using AbstractTrees"
   ]
  },
  {
   "cell_type": "code",
   "execution_count": 56,
   "metadata": {},
   "outputs": [],
   "source": [
    "AbstractTrees.children(x::Type)=subtypes(x)"
   ]
  },
  {
   "cell_type": "code",
   "execution_count": 58,
   "metadata": {},
   "outputs": [
    {
     "name": "stdout",
     "output_type": "stream",
     "text": [
      "Number\n",
      "├─ Complex\n",
      "└─ Real\n",
      "   ├─ AbstractFloat\n",
      "   │  ├─ BigFloat\n",
      "   │  ├─ Float16\n",
      "   │  ├─ Float32\n",
      "   │  └─ Float64\n",
      "   ├─ AbstractIrrational\n",
      "   │  └─ Irrational\n",
      "   ├─ Integer\n",
      "   │  ├─ Bool\n",
      "   │  ├─ Signed\n",
      "   │  │  ├─ BigInt\n",
      "   │  │  ├─ Int128\n",
      "   │  │  ├─ Int16\n",
      "   │  │  ├─ Int32\n",
      "   │  │  ├─ Int64\n",
      "   │  │  └─ Int8\n",
      "   │  └─ Unsigned\n",
      "   │     ├─ UInt128\n",
      "   │     ├─ UInt16\n",
      "   │     ├─ UInt32\n",
      "   │     ├─ UInt64\n",
      "   │     └─ UInt8\n",
      "   └─ Rational\n"
     ]
    }
   ],
   "source": [
    "print_tree(Number)"
   ]
  },
  {
   "cell_type": "markdown",
   "metadata": {},
   "source": [
    "####################\n",
    "# String Constants #\n",
    "####################"
   ]
  },
  {
   "cell_type": "code",
   "execution_count": 59,
   "metadata": {},
   "outputs": [
    {
     "data": {
      "text/plain": [
       "\"⊗\""
      ]
     },
     "execution_count": 59,
     "metadata": {},
     "output_type": "execute_result"
    }
   ],
   "source": [
    "const otimes = \"\\u2297\""
   ]
  },
  {
   "cell_type": "code",
   "execution_count": 60,
   "metadata": {},
   "outputs": [
    {
     "data": {
      "text/plain": [
       "\"⁞\""
      ]
     },
     "execution_count": 60,
     "metadata": {},
     "output_type": "execute_result"
    }
   ],
   "source": [
    "const vdots =\"\\u205E\""
   ]
  },
  {
   "cell_type": "markdown",
   "metadata": {},
   "source": [
    "##################\n",
    "# Abstract Types #\n",
    "##################"
   ]
  },
  {
   "cell_type": "markdown",
   "metadata": {},
   "source": [
    "We are defining a new top level Structure analogous to Number"
   ]
  },
  {
   "cell_type": "code",
   "execution_count": 61,
   "metadata": {},
   "outputs": [],
   "source": [
    "abstract type AbstractStructure end"
   ]
  },
  {
   "cell_type": "code",
   "execution_count": 62,
   "metadata": {},
   "outputs": [],
   "source": [
    "abstract type Orthogonal <: AbstractStructure end\n",
    "abstract type Orthonormal <: Orthogonal end"
   ]
  },
  {
   "cell_type": "code",
   "execution_count": 63,
   "metadata": {},
   "outputs": [],
   "source": [
    "abstract type AbstractQuantum{S<:AbstractStructure} end"
   ]
  },
  {
   "cell_type": "markdown",
   "metadata": {},
   "source": [
    "\n",
    "####################\n",
    "# Bases Type Definitions #\n",
    "####################"
   ]
  },
  {
   "cell_type": "code",
   "execution_count": 64,
   "metadata": {
    "scrolled": true
   },
   "outputs": [],
   "source": [
    "abstract type AbstractBasis{S<:AbstractStructure} <: AbstractQuantum{S} end"
   ]
  },
  {
   "cell_type": "code",
   "execution_count": 65,
   "metadata": {},
   "outputs": [],
   "source": [
    "abstract type AbstractFiniteBasis{S<:AbstractStructure} <: AbstractBasis{S} end"
   ]
  },
  {
   "cell_type": "code",
   "execution_count": 66,
   "metadata": {},
   "outputs": [],
   "source": [
    "abstract type AbstractInfiniteBasis{S<:AbstractStructure} <: AbstractBasis{S} end"
   ]
  },
  {
   "cell_type": "code",
   "execution_count": 67,
   "metadata": {},
   "outputs": [
    {
     "name": "stdout",
     "output_type": "stream",
     "text": [
      "AbstractStructure\n",
      "└─ Orthogonal\n",
      "   └─ Orthonormal\n"
     ]
    }
   ],
   "source": [
    "print_tree(AbstractStructure)"
   ]
  },
  {
   "cell_type": "code",
   "execution_count": 68,
   "metadata": {},
   "outputs": [
    {
     "name": "stdout",
     "output_type": "stream",
     "text": [
      "AbstractQuantum\n",
      "└─ AbstractBasis\n",
      "   ├─ AbstractFiniteBasis\n",
      "   └─ AbstractInfiniteBasis\n"
     ]
    }
   ],
   "source": [
    "print_tree(AbstractQuantum)"
   ]
  },
  {
   "cell_type": "markdown",
   "metadata": {},
   "source": [
    "#############\n",
    "# Functions #\n",
    "#############"
   ]
  },
  {
   "cell_type": "markdown",
   "metadata": {},
   "source": [
    "These functions makes no sense to me"
   ]
  },
  {
   "cell_type": "code",
   "execution_count": 69,
   "metadata": {},
   "outputs": [
    {
     "data": {
      "text/plain": [
       "checkcoeffs (generic function with 1 method)"
      ]
     },
     "execution_count": 69,
     "metadata": {},
     "output_type": "execute_result"
    }
   ],
   "source": [
    "# checkcoeffs(coeffs, dim, basis::AbstractBasis) = \n",
    "#    error(\"checkcoeffs(coeffs, dim, ::$(typeof(basis))) must be defined!\")"
   ]
  },
  {
   "cell_type": "code",
   "execution_count": 71,
   "metadata": {},
   "outputs": [],
   "source": [
    "# for basis=(:AbstractBasis, :AbstractFiniteBasis, :AbstractInfiniteBasis)\n",
    "#     @eval begin\n",
    "#         structure{S}(::Type{($basis){S}}) = S\n",
    "#     end\n",
    "# end"
   ]
  },
  {
   "cell_type": "markdown",
   "metadata": {},
   "source": [
    "###############\n",
    "# FiniteBasis #\n",
    "###############"
   ]
  },
  {
   "cell_type": "code",
   "execution_count": 110,
   "metadata": {},
   "outputs": [
    {
     "ename": "LoadError",
     "evalue": "syntax: too few type parameters specified in \"new{...}\" around In[110]:1",
     "output_type": "error",
     "traceback": [
      "syntax: too few type parameters specified in \"new{...}\" around In[110]:1",
      "",
      "Stacktrace:",
      " [1] top-level scope at In[110]:1",
      " [2] include_string(::Function, ::Module, ::String, ::String) at ./loading.jl:1091",
      " [3] execute_code(::String, ::String) at /home/a1757368/.julia/packages/IJulia/rWZ9e/src/execute_request.jl:27",
      " [4] execute_request(::ZMQ.Socket, ::IJulia.Msg) at /home/a1757368/.julia/packages/IJulia/rWZ9e/src/execute_request.jl:86",
      " [5] #invokelatest#1 at ./essentials.jl:710 [inlined]",
      " [6] invokelatest at ./essentials.jl:709 [inlined]",
      " [7] eventloop(::ZMQ.Socket) at /home/a1757368/.julia/packages/IJulia/rWZ9e/src/eventloop.jl:8",
      " [8] (::IJulia.var\"#15#18\")() at ./task.jl:356"
     ]
    }
   ],
   "source": [
    "struct FiniteBasis{S} <: AbstractFiniteBasis{S}\n",
    "    lens::Tuple{Vararg{Int}}\n",
    "    FiniteBasis(lens::Tuple{Vararg{Int}}) = new(lens)\n",
    "    FiniteBasis(lens::Int...) = new(lens)\n",
    "end"
   ]
  }
 ],
 "metadata": {
  "kernelspec": {
   "display_name": "Julia 1.5.2",
   "language": "julia",
   "name": "julia-1.5"
  },
  "language_info": {
   "file_extension": ".jl",
   "mimetype": "application/julia",
   "name": "julia",
   "version": "1.5.2"
  }
 },
 "nbformat": 4,
 "nbformat_minor": 2
}
